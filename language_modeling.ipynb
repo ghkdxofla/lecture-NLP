{
 "cells": [
  {
   "cell_type": "code",
   "execution_count": null,
   "metadata": {},
   "outputs": [],
   "source": [
    "%load_ext autoreload\n",
    "%autoreload 2\n",
    "%matplotlib inline"
   ]
  },
  {
   "cell_type": "code",
   "execution_count": null,
   "metadata": {},
   "outputs": [],
   "source": [
    "sentences = open(\"europarl-10_sample.en\", \"rt\").readlines()\n",
    "print(\"{:,}\".format(len(sentences)))"
   ]
  },
  {
   "cell_type": "code",
   "execution_count": null,
   "metadata": {},
   "outputs": [],
   "source": [
    "import torch\n",
    "import torch.nn as nn\n",
    "import torch.nn.functional as F\n",
    "\n",
    "from nltk.tokenize.moses import MosesTokenizer\n",
    "from torch.utils.data import Dataset, DataLoader\n",
    "from collections import Counter\n",
    "\n",
    "from time import time"
   ]
  },
  {
   "cell_type": "markdown",
   "metadata": {},
   "source": [
    "## Vocabulary 생성\n",
    "### Parameters\n",
    "- **corpus**: vocabulary 만들 때 사용할 문장\n",
    "- **max_size**: 최대 vocabulary 크기\n",
    "- **lang**: 사용할 언어\n",
    "\n",
    "### Special tokens\n",
    "- **PAD**: 문장길이를 맞춰주기 위한 토큰\n",
    "- **EOS**: 문장의 마지막을 의미하는 토큰\n",
    "- **UNK**: vocabulary에 존재하지 않는 단어를 의미하는 토큰"
   ]
  },
  {
   "cell_type": "code",
   "execution_count": null,
   "metadata": {},
   "outputs": [],
   "source": [
    "class Vocabulary(object):\n",
    "    def __init__(self, corpus: list, max_size=10000, lang='en'):\n",
    "        self.special_tokens = {\n",
    "            0: '<PAD>',\n",
    "            1: '<EOS>',\n",
    "            2: '<UNK>'\n",
    "        }\n",
    "        \n",
    "        self.dictionary = {}\n",
    "        self.dictionary.update(self.special_tokens)\n",
    "        self.reversed_dictionary = {}\n",
    "        \n",
    "        self.max_size = max_size\n",
    "        self.tokenizer = MosesTokenizer(lang)\n",
    "        \n",
    "        self._build(corpus)\n",
    "    \n",
    "    def to_vector(self, words: list):\n",
    "        vector = []\n",
    "        for word in words:\n",
    "            # if the word doesn't exist, it returns index of '<UNK>'\n",
    "            index = self.reversed_dictionary.get(word, 2)\n",
    "            vector.append(index)\n",
    "        return  vector\n",
    "    \n",
    "    def to_string(self, vector: list):\n",
    "        words = []\n",
    "        for index in vector:\n",
    "            word = self.dictionary[index]\n",
    "            words.append(word)\n",
    "            \n",
    "        return words\n",
    "    \n",
    "    def _build(self, sentences):\n",
    "        counter = Counter()\n",
    "        \n",
    "        for sentence in sentences:\n",
    "            sentence = sentence.strip()\n",
    "            words = self.tokenizer.tokenize(sentence)\n",
    "            counter.update(words)\n",
    "        \n",
    "        len_special_tokens = len(self.special_tokens)\n",
    "        for i, (word, counter) in enumerate(counter.most_common(self.max_size - len_special_tokens)):\n",
    "            self.dictionary[i+len_special_tokens] = word\n",
    "        \n",
    "        self.reversed_dictionary = dict(zip(self.dictionary.values(), self.dictionary.keys()))\n",
    "\n",
    "vocab = Vocabulary(sentences)"
   ]
  },
  {
   "cell_type": "code",
   "execution_count": null,
   "metadata": {},
   "outputs": [],
   "source": [
    "print(list(vocab.dictionary.items())[:10])\n",
    "print(list(vocab.reversed_dictionary.items())[:10])"
   ]
  },
  {
   "cell_type": "markdown",
   "metadata": {},
   "source": [
    "## 데이터 로딩을 위한 dataset class 생성\n",
    "- torch.utils.data 모듈 안에 있는 **Dataset** 클래스를 상속\n",
    "- 모든 문장 뒤에는 문장의 끝을 알리는 **EOS(End of Sentence)** 토큰을 추가\n",
    "- 문장 내의 단어들을 해당하는 **index**로 변환\n",
    "\n",
    "### Parameters\n",
    "- **corpus**: train 시 사용할 문장\n",
    "- **vocab**: 만들어 놓은 vocabulary\n",
    "- **lang**: 사용할 언어"
   ]
  },
  {
   "cell_type": "code",
   "execution_count": null,
   "metadata": {},
   "outputs": [],
   "source": [
    "class SequenceDataset(Dataset):\n",
    "    def __init__(self, corpus: list, vocab: Vocabulary, lang='en'):\n",
    "        super(SequenceDataset, self).__init__()\n",
    "        self.vocab = vocab\n",
    "        self.corpus = corpus\n",
    "        self.tokenizer = MosesTokenizer(lang)\n",
    "    \n",
    "    def __getitem__(self, item):\n",
    "        source_sent = self.corpus[item].strip()\n",
    "        source_sent = self.tokenizer.tokenize(source_sent)\n",
    "        \n",
    "        source_sent.append('<EOS>')\n",
    "        source_sent = self.vocab.to_vector(source_sent)\n",
    "        \n",
    "        return source_sent\n",
    "    \n",
    "    def __len__(self):\n",
    "        return len(self.corpus)\n",
    "    \n"
   ]
  },
  {
   "cell_type": "markdown",
   "metadata": {},
   "source": [
    "## collate_fn\n",
    "- **dataloader**에 사용되는 함수\n",
    "- 서로 다른 길이를 가진 문장들이 같은 길이를 갖도록 PAD 토큰 추가"
   ]
  },
  {
   "cell_type": "code",
   "execution_count": null,
   "metadata": {},
   "outputs": [],
   "source": [
    "def collate_fn(source):\n",
    "    max_src = max([len(s) for s in source])\n",
    "    \n",
    "    for s in source:\n",
    "        s += [vocab.reversed_dictionary['<PAD>']] * (max_src - len(s))\n",
    "        \n",
    "    return source\n",
    "    "
   ]
  },
  {
   "cell_type": "markdown",
   "metadata": {},
   "source": [
    "## Language Model 클래스\n",
    "- *'나는 학교에 간다'* 문장이 존재\n",
    "- **'나는'** 이 입력으로 주어지면 **'학교에'**를 예측\n",
    "- **'학교에'**가 주어지면 **'간다'**를 예측\n",
    "\n",
    "### Paramters\n",
    "- **vocab_size**: 최대 vocabulary 크기를 의미\n",
    "- **embed_size**: 하나의 단어를 vector 형태로 변환할 때, vector의 크기를 의미\n",
    "- **hidden_size**: RNN(Recurrent Neural Network)를 계산할 시, 사용하는 matrix의 크기를 의미\n",
    "- **num_layers**: RNN의 layer 수"
   ]
  },
  {
   "cell_type": "code",
   "execution_count": null,
   "metadata": {},
   "outputs": [],
   "source": [
    "class LM(nn.Module):\n",
    "    def __init__(self, vocab_size, embed_size, hidden_size, num_layers):\n",
    "        super(LM, self).__init__()\n",
    "        self.hidden_size = hidden_size\n",
    "        \n",
    "        self.embed = nn.Embedding(vocab_size, embed_size, padding_idx=vocab.reversed_dictionary['<PAD>'])\n",
    "        self.rnn = nn.GRU(embed_size, hidden_size, num_layers, batch_first=True)\n",
    "        self.linear = nn.Linear(hidden_size, vocab_size)\n",
    "      \n",
    "    def forward(self, x, h):\n",
    "        x = self.embed(x)\n",
    "        \n",
    "        out, h = self.rnn(x, h)\n",
    "        out = out.reshape(-1, self.hidden_size)\n",
    "        out = self.linear(out)\n",
    "        return out, h\n",
    "    \n",
    "    def predict(self, x, h):\n",
    "        seq_len = x.shape[1]\n",
    "        x = self.embed(x)\n",
    "\n",
    "        out, h = self.rnn(x, h)\n",
    "        out = out[:, :-1].reshape(-1, self.hidden_size)\n",
    "        out = self.linear(out)\n",
    "        out = F.softmax(out, dim=1).argmax(dim=1)\n",
    "        return out"
   ]
  },
  {
   "cell_type": "code",
   "execution_count": null,
   "metadata": {},
   "outputs": [],
   "source": [
    "vocab_size = 10000\n",
    "embed_size = 128\n",
    "hidden_size = 512\n",
    "num_layers = 1\n",
    "\n",
    "LM_model = LM(vocab_size, embed_size, hidden_size, num_layers)"
   ]
  },
  {
   "cell_type": "code",
   "execution_count": null,
   "metadata": {},
   "outputs": [],
   "source": [
    "batch_size = 32\n",
    "dataset = SequenceDataset(sentences, vocab)\n",
    "dataloader = DataLoader(dataset, batch_size=batch_size, shuffle=True, num_workers=4, collate_fn=collate_fn)\n",
    "\n",
    "criterion = nn.CrossEntropyLoss(ignore_index=vocab.reversed_dictionary['<PAD>'], reduction='sum')\n",
    "optimizer = torch.optim.Adam(LM_model.parameters(), lr=0.002)\n",
    "\n",
    "start = time()\n",
    "for step, s in enumerate(dataloader):\n",
    "    s = torch.tensor(s, dtype=torch.long, requires_grad=False)\n",
    "    h = torch.zeros(num_layers, batch_size, hidden_size, requires_grad=False)\n",
    "    outputs, _ = LM_model(s[:, :-1], h)\n",
    "    targets = s[:, :-1].reshape(-1, )\n",
    "\n",
    "    loss = criterion(outputs, targets) / batch_size\n",
    "    LM_model.zero_grad()\n",
    "    loss.backward()\n",
    "    nn.utils.clip_grad_norm_(LM_model.parameters(), max_norm=0.5)\n",
    "    optimizer.step()\n",
    "\n",
    "    if step % 10 == 0:\n",
    "        print(\"Step: {:7} Loss: {:.6f}\".format(step, loss))\n",
    "    \n",
    "    if loss <= 3.0:\n",
    "        break\n",
    "print(\"Time: {}\".format(time() - start))"
   ]
  },
  {
   "cell_type": "code",
   "execution_count": null,
   "metadata": {},
   "outputs": [],
   "source": [
    "results = LM_model.predict(s, h)\n",
    "results = results.chunk(batch_size)\n",
    "\n",
    "for ori, pred in zip(s[:, :-1], results):\n",
    "    ori = ori.cpu().numpy()\n",
    "    pred = pred.cpu().numpy()\n",
    "    \n",
    "    ori = vocab.to_string(ori)\n",
    "    pred = vocab.to_string(pred)\n",
    "    \n",
    "    print(\"Original: {}\".format(\" \".join(ori)))\n",
    "    print(\"Predicted: {}\".format(\" \".join(pred)))\n",
    "    print()"
   ]
  }
 ],
 "metadata": {
  "kernelspec": {
   "display_name": "Python 3",
   "language": "python",
   "name": "python3"
  },
  "language_info": {
   "codemirror_mode": {
    "name": "ipython",
    "version": 3
   },
   "file_extension": ".py",
   "mimetype": "text/x-python",
   "name": "python",
   "nbconvert_exporter": "python",
   "pygments_lexer": "ipython3",
   "version": "3.6.5"
  }
 },
 "nbformat": 4,
 "nbformat_minor": 2
}
