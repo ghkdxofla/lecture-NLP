{
 "cells": [
  {
   "cell_type": "code",
   "execution_count": 1,
   "metadata": {},
   "outputs": [],
   "source": [
    "%load_ext autoreload\n",
    "%autoreload 2\n",
    "%matplotlib inline"
   ]
  },
  {
   "cell_type": "code",
   "execution_count": 2,
   "metadata": {},
   "outputs": [
    {
     "name": "stdout",
     "output_type": "stream",
     "text": [
      "100,000\n"
     ]
    }
   ],
   "source": [
    "sentences = open(\"europarl-10_sample.en\", \"rt\").readlines()\n",
    "print(\"{:,}\".format(len(sentences)))"
   ]
  },
  {
   "cell_type": "code",
   "execution_count": 13,
   "metadata": {},
   "outputs": [],
   "source": [
    "import torch\n",
    "import torch.nn as nn\n",
    "import torch.nn.functional as F\n",
    "\n",
    "from nltk.tokenize.moses import MosesTokenizer\n",
    "from torch.utils.data import Dataset, DataLoader\n",
    "from collections import Counter\n",
    "\n",
    "from time import time"
   ]
  },
  {
   "cell_type": "markdown",
   "metadata": {},
   "source": [
    "## Vocabulary 생성\n",
    "### Parameters\n",
    "- **corpus**: vocabulary 만들 때 사용할 문장\n",
    "- **max_size**: 최대 vocabulary 크기\n",
    "- **lang**: 사용할 언어\n",
    "\n",
    "### Special tokens\n",
    "- **PAD**: 문장길이를 맞춰주기 위한 토큰\n",
    "- **EOS**: 문장의 마지막을 의미하는 토큰\n",
    "- **UNK**: vocabulary에 존재하지 않는 단어를 의미하는 토큰"
   ]
  },
  {
   "cell_type": "code",
   "execution_count": 4,
   "metadata": {},
   "outputs": [],
   "source": [
    "class Vocabulary(object):\n",
    "    def __init__(self, corpus: list, max_size=10000, lang='en'):\n",
    "        self.special_tokens = {\n",
    "            0: '<PAD>',\n",
    "            1: '<EOS>',\n",
    "            2: '<UNK>'\n",
    "        }\n",
    "        \n",
    "        self.dictionary = {}\n",
    "        self.dictionary.update(self.special_tokens)\n",
    "        self.reversed_dictionary = {}\n",
    "        \n",
    "        self.max_size = max_size\n",
    "        self.tokenizer = MosesTokenizer(lang)\n",
    "        \n",
    "        self._build(corpus)\n",
    "    \n",
    "    def to_vector(self, words: list):\n",
    "        vector = []\n",
    "        for word in words:\n",
    "            # if the word doesn't exist, it returns index of '<UNK>'\n",
    "            index = self.reversed_dictionary.get(word, 2)\n",
    "            vector.append(index)\n",
    "        return  vector\n",
    "    \n",
    "    def to_string(self, vector: list):\n",
    "        words = []\n",
    "        for index in vector:\n",
    "            word = self.dictionary[index]\n",
    "            words.append(word)\n",
    "            \n",
    "        return words\n",
    "    \n",
    "    def _build(self, sentences):\n",
    "        counter = Counter()\n",
    "        \n",
    "        for sentence in sentences:\n",
    "            sentence = sentence.strip()\n",
    "            words = self.tokenizer.tokenize(sentence)\n",
    "            counter.update(words)\n",
    "        \n",
    "        len_special_tokens = len(self.special_tokens)\n",
    "        for i, (word, counter) in enumerate(counter.most_common(self.max_size - len_special_tokens)):\n",
    "            self.dictionary[i+len_special_tokens] = word\n",
    "        \n",
    "        self.reversed_dictionary = dict(zip(self.dictionary.values(), self.dictionary.keys()))\n",
    "\n",
    "vocab = Vocabulary(sentences)"
   ]
  },
  {
   "cell_type": "code",
   "execution_count": 5,
   "metadata": {},
   "outputs": [
    {
     "name": "stdout",
     "output_type": "stream",
     "text": [
      "[(0, '<PAD>'), (1, '<EOS>'), (2, '<UNK>'), (3, '.'), (4, 'is'), (5, 'the'), (6, 'to'), (7, 'The'), (8, ','), (9, 'I')]\n",
      "[('<PAD>', 0), ('<EOS>', 1), ('<UNK>', 2), ('.', 3), ('is', 4), ('the', 5), ('to', 6), ('The', 7), (',', 8), ('I', 9)]\n"
     ]
    }
   ],
   "source": [
    "print(list(vocab.dictionary.items())[:10])\n",
    "print(list(vocab.reversed_dictionary.items())[:10])"
   ]
  },
  {
   "cell_type": "markdown",
   "metadata": {},
   "source": [
    "## 데이터 로딩을 위한 dataset class 생성\n",
    "- torch.utils.data 모듈 안에 있는 **Dataset** 클래스를 상속\n",
    "- 모든 문장 뒤에는 문장의 끝을 알리는 **EOS(End of Sentence)** 토큰을 추가\n",
    "- 문장 내의 단어들을 해당하는 **index**로 변환\n",
    "\n",
    "### Parameters\n",
    "- **corpus**: train 시 사용할 문장\n",
    "- **vocab**: 만들어 놓은 vocabulary\n",
    "- **lang**: 사용할 언어"
   ]
  },
  {
   "cell_type": "code",
   "execution_count": 6,
   "metadata": {},
   "outputs": [],
   "source": [
    "class SequenceDataset(Dataset):\n",
    "    def __init__(self, corpus: list, vocab: Vocabulary, lang='en'):\n",
    "        super(SequenceDataset, self).__init__()\n",
    "        self.vocab = vocab\n",
    "        self.corpus = corpus\n",
    "        self.tokenizer = MosesTokenizer(lang)\n",
    "    \n",
    "    def __getitem__(self, item):\n",
    "        source_sent = self.corpus[item].strip()\n",
    "        source_sent = self.tokenizer.tokenize(source_sent)\n",
    "        \n",
    "        source_sent.append('<EOS>')\n",
    "        source_sent = self.vocab.to_vector(source_sent)\n",
    "        \n",
    "        return source_sent\n",
    "    \n",
    "    def __len__(self):\n",
    "        return len(self.corpus)\n",
    "    \n"
   ]
  },
  {
   "cell_type": "markdown",
   "metadata": {},
   "source": [
    "## collate_fn\n",
    "- **dataloader**에 사용되는 함수\n",
    "- 서로 다른 길이를 가진 문장들이 같은 길이를 갖도록 PAD 토큰 추가"
   ]
  },
  {
   "cell_type": "code",
   "execution_count": 7,
   "metadata": {},
   "outputs": [],
   "source": [
    "def collate_fn(source):\n",
    "    max_src = max([len(s) for s in source])\n",
    "    \n",
    "    for s in source:\n",
    "        s += [vocab.reversed_dictionary['<PAD>']] * (max_src - len(s))\n",
    "        \n",
    "    return source\n",
    "    "
   ]
  },
  {
   "cell_type": "markdown",
   "metadata": {},
   "source": [
    "## Language Model 클래스\n",
    "- *'나는 학교에 간다'* 문장이 존재\n",
    "- **'나는'** 이 입력으로 주어지면 **'학교에'**를 예측\n",
    "- **'학교에'**가 주어지면 **'간다'**를 예측\n",
    "\n",
    "### Paramters\n",
    "- **vocab_size**: 최대 vocabulary 크기를 의미\n",
    "- **embed_size**: 하나의 단어를 vector 형태로 변환할 때, vector의 크기를 의미\n",
    "- **hidden_size**: RNN(Recurrent Neural Network)를 계산할 시, 사용하는 matrix의 크기를 의미\n",
    "- **num_layers**: RNN의 layer 수"
   ]
  },
  {
   "cell_type": "code",
   "execution_count": 8,
   "metadata": {},
   "outputs": [],
   "source": [
    "class LM(nn.Module):\n",
    "    def __init__(self, vocab_size, embed_size, hidden_size, num_layers):\n",
    "        super(LM, self).__init__()\n",
    "        self.hidden_size = hidden_size\n",
    "        \n",
    "        self.embed = nn.Embedding(vocab_size, embed_size, padding_idx=vocab.reversed_dictionary['<PAD>'])\n",
    "        self.rnn = nn.GRU(embed_size, hidden_size, num_layers, batch_first=True)\n",
    "        self.linear = nn.Linear(hidden_size, vocab_size)\n",
    "      \n",
    "    def forward(self, x, h):\n",
    "        x = self.embed(x)\n",
    "        \n",
    "        out, h = self.rnn(x, h)\n",
    "        out = out.reshape(-1, self.hidden_size)\n",
    "        out = self.linear(out)\n",
    "        return out, h\n",
    "    \n",
    "    def predict(self, x, h):\n",
    "        seq_len = x.shape[1]\n",
    "        x = self.embed(x)\n",
    "\n",
    "        out, h = self.rnn(x, h)\n",
    "        out = out[:, :-1].reshape(-1, self.hidden_size)\n",
    "        out = self.linear(out)\n",
    "        out = F.softmax(out, dim=1).argmax(dim=1)\n",
    "        return out"
   ]
  },
  {
   "cell_type": "code",
   "execution_count": 16,
   "metadata": {},
   "outputs": [],
   "source": [
    "vocab_size = 10000\n",
    "embed_size = 128\n",
    "hidden_size = 512\n",
    "num_layers = 1\n",
    "\n",
    "LM_model = LM(vocab_size, embed_size, hidden_size, num_layers)"
   ]
  },
  {
   "cell_type": "code",
   "execution_count": 17,
   "metadata": {},
   "outputs": [
    {
     "name": "stdout",
     "output_type": "stream",
     "text": [
      "Step:       0 Loss: 71.636024\n",
      "Step:      10 Loss: 40.802658\n",
      "Step:      20 Loss: 24.392666\n",
      "Step:      30 Loss: 25.347506\n",
      "Step:      40 Loss: 18.270493\n",
      "Step:      50 Loss: 16.927376\n",
      "Step:      60 Loss: 18.160582\n",
      "Step:      70 Loss: 14.141143\n",
      "Step:      80 Loss: 10.955537\n",
      "Step:      90 Loss: 13.952455\n",
      "Step:     100 Loss: 9.368815\n",
      "Step:     110 Loss: 8.665505\n",
      "Step:     120 Loss: 8.311269\n",
      "Step:     130 Loss: 12.195970\n",
      "Step:     140 Loss: 6.745363\n",
      "Step:     150 Loss: 5.790042\n",
      "Step:     160 Loss: 8.708479\n",
      "Step:     170 Loss: 6.321492\n",
      "Step:     180 Loss: 6.788254\n",
      "Step:     190 Loss: 4.881291\n",
      "Time: 95.42926287651062\n"
     ]
    }
   ],
   "source": [
    "batch_size = 32\n",
    "dataset = SequenceDataset(sentences, vocab)\n",
    "dataloader = DataLoader(dataset, batch_size=batch_size, shuffle=True, num_workers=4, collate_fn=collate_fn)\n",
    "\n",
    "criterion = nn.CrossEntropyLoss(ignore_index=vocab.reversed_dictionary['<PAD>'], reduction='sum')\n",
    "optimizer = torch.optim.Adam(LM_model.parameters(), lr=0.002)\n",
    "\n",
    "start = time()\n",
    "for step, s in enumerate(dataloader):\n",
    "    s = torch.tensor(s, dtype=torch.long, requires_grad=False)\n",
    "    h = torch.zeros(num_layers, batch_size, hidden_size, requires_grad=False)\n",
    "    outputs, _ = LM_model(s[:, :-1], h)\n",
    "    targets = s[:, :-1].reshape(-1, )\n",
    "\n",
    "    loss = criterion(outputs, targets) / batch_size\n",
    "    LM_model.zero_grad()\n",
    "    loss.backward()\n",
    "    nn.utils.clip_grad_norm_(LM_model.parameters(), max_norm=0.5)\n",
    "    optimizer.step()\n",
    "\n",
    "    if step % 10 == 0:\n",
    "        print(\"Step: {:7} Loss: {:.6f}\".format(step, loss))\n",
    "    \n",
    "    if loss <= 3.0:\n",
    "        break\n",
    "print(\"Time: {}\".format(time() - start))"
   ]
  },
  {
   "cell_type": "code",
   "execution_count": 36,
   "metadata": {},
   "outputs": [
    {
     "name": "stdout",
     "output_type": "stream",
     "text": [
      "Original: This is sometimes overlooked by many . <EOS> <PAD> <PAD>\n",
      "Predicted: This is sometimes 14 by many . <EOS> ’ it\n",
      "\n",
      "Original: ( Parliament adopted the legislative resolution ) <EOS> <PAD> <PAD>\n",
      "Predicted: ( Parliament adopted the legislative resolution ) <EOS> ’ it\n",
      "\n",
      "Original: That is something we cannot support . <EOS> <PAD> <PAD>\n",
      "Predicted: That is something we cannot support . <EOS> ’ it\n",
      "\n",
      "Original: I firmly believe that it needs it . <EOS> <PAD>\n",
      "Predicted: I firmly believe that it needs it . <EOS> ’\n",
      "\n",
      "Original: . <EOS> <PAD> <PAD> <PAD> <PAD> <PAD> <PAD> <PAD> <PAD>\n",
      "Predicted: . <EOS> ’ it and and and and and and\n",
      "\n",
      "Original: Where is the justification for this directive ? <EOS> <PAD>\n",
      "Predicted: Where is the This for this directive ? <EOS> ’\n",
      "\n",
      "Original: . <EOS> <PAD> <PAD> <PAD> <PAD> <PAD> <PAD> <PAD> <PAD>\n",
      "Predicted: . <EOS> ’ it and and and and and and\n",
      "\n",
      "Original: <UNK> adjustments were made to the rules of football .\n",
      "Predicted: <UNK> adjustments were made to the rules of football .\n",
      "\n",
      "Original: . <EOS> <PAD> <PAD> <PAD> <PAD> <PAD> <PAD> <PAD> <PAD>\n",
      "Predicted: . <EOS> ’ it and and and and and and\n",
      "\n",
      "Original: . <EOS> <PAD> <PAD> <PAD> <PAD> <PAD> <PAD> <PAD> <PAD>\n",
      "Predicted: . <EOS> ’ it and and and and and and\n",
      "\n",
      "Original: The Commission must become a driving force . <EOS> <PAD>\n",
      "Predicted: The Commission must become a out force . <EOS> ’\n",
      "\n",
      "Original: . <EOS> <PAD> <PAD> <PAD> <PAD> <PAD> <PAD> <PAD> <PAD>\n",
      "Predicted: . <EOS> ’ it and and and and and and\n",
      "\n",
      "Original: . <EOS> <PAD> <PAD> <PAD> <PAD> <PAD> <PAD> <PAD> <PAD>\n",
      "Predicted: . <EOS> ’ it and and and and and and\n",
      "\n",
      "Original: . <EOS> <PAD> <PAD> <PAD> <PAD> <PAD> <PAD> <PAD> <PAD>\n",
      "Predicted: . <EOS> ’ it and and and and and and\n",
      "\n",
      "Original: . <EOS> <PAD> <PAD> <PAD> <PAD> <PAD> <PAD> <PAD> <PAD>\n",
      "Predicted: . <EOS> ’ it and and and and and and\n",
      "\n",
      "Original: Mr President , that has to change . <EOS> <PAD>\n",
      "Predicted: Mr President , that has to change . <EOS> ’\n",
      "\n",
      "Original: We need to debate . <EOS> <PAD> <PAD> <PAD> <PAD>\n",
      "Predicted: We need to debate . <EOS> ’ it and and\n",
      "\n",
      "Original: But , now what ? <EOS> <PAD> <PAD> <PAD> <PAD>\n",
      "Predicted: But , now what ? <EOS> ’ it and States\n",
      "\n",
      "Original: The point about governance and democracy is also true .\n",
      "Predicted: The point about governance and democracy is also true .\n",
      "\n",
      "Original: It must be clear and simple . <EOS> <PAD> <PAD>\n",
      "Predicted: It must be clear and simple . <EOS> ’ and\n",
      "\n",
      "Original: Nothing will stop when we reach 2004 . <EOS> <PAD>\n",
      "Predicted: Nothing will stop when we reach 2004 . <EOS> ’\n",
      "\n",
      "Original: . <EOS> <PAD> <PAD> <PAD> <PAD> <PAD> <PAD> <PAD> <PAD>\n",
      "Predicted: . <EOS> ’ it and and and and and and\n",
      "\n",
      "Original: . <EOS> <PAD> <PAD> <PAD> <PAD> <PAD> <PAD> <PAD> <PAD>\n",
      "Predicted: . <EOS> ’ it and and and and and and\n",
      "\n",
      "Original: Let me give you just two examples . <EOS> <PAD>\n",
      "Predicted: Let me give you just two examples . <EOS> ’\n",
      "\n",
      "Original: . <EOS> <PAD> <PAD> <PAD> <PAD> <PAD> <PAD> <PAD> <PAD>\n",
      "Predicted: . <EOS> ’ it and and and and and and\n",
      "\n",
      "Original: There is an economic necessity <UNK> all of this .\n",
      "Predicted: There is an economic What <UNK> all of this .\n",
      "\n",
      "Original: The question then is what does this mean <UNK> ?\n",
      "Predicted: The question then is what does this mean <UNK> ?\n",
      "\n",
      "Original: I hope she can cooperate with us . <EOS> <PAD>\n",
      "Predicted: I hope she can tomorrow with us . <EOS> ’\n",
      "\n",
      "Original: Why do the governments want to preserve spam ? <EOS>\n",
      "Predicted: Why do the governments want to preserve spam ? <EOS>\n",
      "\n",
      "Original: I think this is paramount . <EOS> <PAD> <PAD> <PAD>\n",
      "Predicted: I think this is . . <EOS> ’ it and\n",
      "\n",
      "Original: The debate is closed . <EOS> <PAD> <PAD> <PAD> <PAD>\n",
      "Predicted: The debate is closed . <EOS> ’ it and and\n",
      "\n",
      "Original: The same applies to <UNK> . <EOS> <PAD> <PAD> <PAD>\n",
      "Predicted: The same applies to <UNK> . <EOS> ’ it and\n",
      "\n"
     ]
    }
   ],
   "source": [
    "results = LM_model.predict(s, h)\n",
    "results = results.chunk(batch_size)\n",
    "\n",
    "for ori, pred in zip(s[:, :-1], results):\n",
    "    ori = ori.cpu().numpy()\n",
    "    pred = pred.cpu().numpy()\n",
    "    \n",
    "    ori = vocab.to_string(ori)\n",
    "    pred = vocab.to_string(pred)\n",
    "    \n",
    "    print(\"Original: {}\".format(\" \".join(ori)))\n",
    "    print(\"Predicted: {}\".format(\" \".join(pred)))\n",
    "    print()"
   ]
  }
 ],
 "metadata": {
  "kernelspec": {
   "display_name": "Python 3",
   "language": "python",
   "name": "python3"
  },
  "language_info": {
   "codemirror_mode": {
    "name": "ipython",
    "version": 3
   },
   "file_extension": ".py",
   "mimetype": "text/x-python",
   "name": "python",
   "nbconvert_exporter": "python",
   "pygments_lexer": "ipython3",
   "version": "3.6.5"
  }
 },
 "nbformat": 4,
 "nbformat_minor": 2
}
